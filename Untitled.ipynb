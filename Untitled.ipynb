{
 "cells": [
  {
   "cell_type": "code",
   "execution_count": 14,
   "id": "2d46ecb3-1777-4ffa-bf92-b75eaeb92abd",
   "metadata": {},
   "outputs": [
    {
     "name": "stdout",
     "output_type": "stream",
     "text": [
      "    ID              Compound Name    Formula ESI_Ion Mode_Plus  \\\n",
      "0  1.0  Baicalein 7-O-glucuronide  C21H18O11            [M-H]-   \n",
      "1  2.0                   Puerarin  C21H20O10            [M-H]-   \n",
      "2  NaN                        NaN        NaN           [2M-H]-   \n",
      "3  3.0          Glycyrrhizic acid  C42H62O16            [M-H]-   \n",
      "4  4.0                  Berberine  C20H18NO4                 -   \n",
      "\n",
      "  ESI_Calcm/z_Plus ESI_Fragment ions(m/z)_Plus ESI_Ion Mode_Minus  \\\n",
      "0         445.0776                         269             [M+H]+   \n",
      "1         431.0984                         269             [M+H]+   \n",
      "2         863.1968                    431, 269                  -   \n",
      "3         821.3965                    645, 469             [M+H]+   \n",
      "4                -                           -               [M]+   \n",
      "\n",
      "  ESI_Calcm/z_Minus ESI_Fragment ions(m/z)_Minus         CAS  \\\n",
      "0          447.0922                          271  21967-41-9   \n",
      "1          433.1129                          271   3681-99-0   \n",
      "2                 -                            -         NaN   \n",
      "3          823.4111                     647, 471   1405-86-3   \n",
      "4           336.123                     320, 292   2086-83-1   \n",
      "\n",
      "                                              SMILES       Compound Class  \\\n",
      "0  OC1=C(O)C(O[CH]2O[CH](C([OH2+])=O)[CH](O)[CH](...  Flavonoid glycoside   \n",
      "1  O=C1C(C=C2)=C(OC=C1C3=CC=C(O)C=C3)C(O[CH]4O[CH...  Flavonoid glycoside   \n",
      "2                                                NaN                  NaN   \n",
      "3  C[C]([C](CC[C](CC1)(C)[C]2([H])C[C]1(C)C(O)=O)...              Saponin   \n",
      "4  COC1=C(OC)C=CC2=C1C=[N+](CC3)C(C4=C3C=C5C(OCO5...             Alkaloid   \n",
      "\n",
      "           Compound Source           Reference Remark  \n",
      "0  Scutellaria baicalensis  LTQ Orbitrap, Leaf   1, 3  \n",
      "1         Puerariae lobata                   -      3  \n",
      "2                      NaN                 NaN      2  \n",
      "3    Glycyrrhiza uralensis           QQQ, Leaf      2  \n",
      "4         Coptis chinensis       Qtrap, Flower      3  \n"
     ]
    }
   ],
   "source": [
    "import pandas as pd\n",
    "\n",
    "# 读取 CSV 文件\n",
    "file_path = \"D:\\\\mysjk\\\\mongolian_medicine_data_test.csv\"\n",
    "df = pd.read_csv(file_path)\n",
    "\n",
    "# 查看数据\n",
    "print(df.head())"
   ]
  },
  {
   "cell_type": "code",
   "execution_count": null,
   "id": "0460fc1d-24d9-481c-8a73-be6629e4323c",
   "metadata": {},
   "outputs": [],
   "source": []
  }
 ],
 "metadata": {
  "kernelspec": {
   "display_name": "Python 3 (ipykernel)",
   "language": "python",
   "name": "python3"
  },
  "language_info": {
   "codemirror_mode": {
    "name": "ipython",
    "version": 3
   },
   "file_extension": ".py",
   "mimetype": "text/x-python",
   "name": "python",
   "nbconvert_exporter": "python",
   "pygments_lexer": "ipython3",
   "version": "3.13.2"
  }
 },
 "nbformat": 4,
 "nbformat_minor": 5
}
